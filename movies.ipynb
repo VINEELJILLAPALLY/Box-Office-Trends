{
 "cells": [
  {
   "cell_type": "code",
   "execution_count": null,
   "id": "73645394",
   "metadata": {},
   "outputs": [],
   "source": [
    "#importing libraries\n",
    "import numpy as np\n",
    "import pandas as pd\n",
    "import matplotlib.pyplot as plt\n",
    "import seaborn as sns\n",
    "%matplotlib inline\n",
    "import warnings\n",
    "warnings.filterwarnings(\"ignore\")"
   ]
  },
  {
   "cell_type": "code",
   "execution_count": null,
   "id": "98e07810",
   "metadata": {},
   "outputs": [],
   "source": [
    "# Reading dataset\n",
    "df=pd.read_csv('movies.csv')"
   ]
  },
  {
   "cell_type": "code",
   "execution_count": null,
   "id": "bee8d21a",
   "metadata": {},
   "outputs": [],
   "source": [
    "df"
   ]
  },
  {
   "cell_type": "code",
   "execution_count": null,
   "id": "33bab545",
   "metadata": {},
   "outputs": [],
   "source": [
    "df.describe()"
   ]
  },
  {
   "cell_type": "code",
   "execution_count": null,
   "id": "d0d3786b",
   "metadata": {},
   "outputs": [],
   "source": [
    "df.head()"
   ]
  },
  {
   "cell_type": "code",
   "execution_count": null,
   "id": "1e922be6",
   "metadata": {
    "scrolled": true
   },
   "outputs": [],
   "source": [
    "df.info()"
   ]
  },
  {
   "cell_type": "code",
   "execution_count": null,
   "id": "f53292a9",
   "metadata": {},
   "outputs": [],
   "source": [
    "df.shape"
   ]
  },
  {
   "cell_type": "code",
   "execution_count": null,
   "id": "3e2cafac",
   "metadata": {},
   "outputs": [],
   "source": [
    "df.columns"
   ]
  },
  {
   "cell_type": "code",
   "execution_count": null,
   "id": "0ebc4348",
   "metadata": {},
   "outputs": [],
   "source": [
    "df.isnull().sum()"
   ]
  },
  {
   "cell_type": "markdown",
   "id": "ae38595c",
   "metadata": {},
   "source": [
    "# Exploratory Data Analysis (EDA)"
   ]
  },
  {
   "cell_type": "markdown",
   "id": "b94970a1",
   "metadata": {},
   "source": [
    "Determine the distribution of Movie rating"
   ]
  },
  {
   "cell_type": "code",
   "execution_count": null,
   "id": "56ad3f98",
   "metadata": {},
   "outputs": [],
   "source": [
    "plt.hist(df['rating'],bins=20)\n",
    "plt.xlabel('ratings')\n",
    "plt.ylabel('Frequency')\n",
    "plt.title('Distribution of Movie Rating')\n",
    "plt.show()"
   ]
  },
  {
   "cell_type": "raw",
   "id": "635d4e97",
   "metadata": {},
   "source": [
    "we can conclude that the majority of movies in the dataset have a \n",
    "rating between 8.0 and 8.4, with fewer movies having higher ratings above 8.4"
   ]
  },
  {
   "cell_type": "raw",
   "id": "68b2e0bc",
   "metadata": {},
   "source": [
    "Which movie genres are the most common in the dataset?"
   ]
  },
  {
   "cell_type": "code",
   "execution_count": null,
   "id": "64622e5e",
   "metadata": {},
   "outputs": [],
   "source": [
    "genre_counts = df['genre'].value_counts()\n",
    "\n",
    "# The Top 5 most common genres\n",
    "print(genre_counts.head(10))"
   ]
  },
  {
   "cell_type": "raw",
   "id": "93230ca4",
   "metadata": {},
   "source": [
    "How many movies were released each year in the dataset?"
   ]
  },
  {
   "cell_type": "code",
   "execution_count": null,
   "id": "0e0ff848",
   "metadata": {},
   "outputs": [],
   "source": [
    "# count the number of movies released in each year\n",
    "year_counts = df['year'].value_counts()\n",
    "\n",
    "print(\"The number of movies released in each year:\\n\", year_counts.head(10))"
   ]
  },
  {
   "cell_type": "raw",
   "id": "1cf732a8",
   "metadata": {},
   "source": [
    "How does the number of movies released each year vary over time?"
   ]
  },
  {
   "cell_type": "code",
   "execution_count": null,
   "id": "80e31569",
   "metadata": {},
   "outputs": [],
   "source": [
    "# Get the count of movies released each year\n",
    "year_counts = df.groupby('year')['name'].count()\n",
    "\n",
    "# create the line plot\n",
    "sns.set(style='darkgrid')\n",
    "plt.plot(year_counts.index, year_counts.values)\n",
    "plt.xlabel('Year')\n",
    "plt.ylabel('No.of movies released')\n",
    "plt.title('No.of movies released each year')\n",
    "plt.show()"
   ]
  },
  {
   "cell_type": "raw",
   "id": "09d0512a",
   "metadata": {},
   "source": [
    "we can conclude that graph shows year 1995 and 2004 have more number of movies released"
   ]
  },
  {
   "cell_type": "raw",
   "id": "5e6a4aa8",
   "metadata": {},
   "source": [
    "What is the Percentage of Movies based on Year"
   ]
  },
  {
   "cell_type": "code",
   "execution_count": null,
   "id": "a51132a3",
   "metadata": {},
   "outputs": [],
   "source": [
    "df['year'].sort_values()\n",
    "# year ranges from 1921 to 2022\n",
    "# lets make group as 1921 - 1940, 1941-1960, 1961-1980, 1981-2000, 2001-2022\n",
    "\n",
    "_21to40 = 0\n",
    "_41to60 = 0\n",
    "_61to80 = 0\n",
    "_81to00 = 0\n",
    "_01to22 = 0\n",
    "\n",
    "for i in df['year']:\n",
    "    if i>1920 and i<1940:\n",
    "        _21to40+=1\n",
    "    elif i>1940 and i<1960:\n",
    "        _41to60+=1\n",
    "    elif i>1960 and i<1980:\n",
    "        _61to80+=1\n",
    "    elif i>1980 and i<2000:\n",
    "        _81to00+=1\n",
    "    else:\n",
    "        _01to22+1\n",
    "\n",
    "data = [_21to40, _41to60, _61to80, _81to00, _01to22]\n",
    "label = ['1921 - 1940', '1941-1960', '1961-1980', '1981-2000', '2001-2022']\n",
    "\n",
    "plt.figure(figsize=(12,6))\n",
    "plt.pie(data,labels=label,colors=sns.color_palette('Paired'),autopct='%.2f%%')\n",
    "plt.title(\"Percentage of Movies based on Year\")\n",
    "plt.show()"
   ]
  },
  {
   "cell_type": "raw",
   "id": "847fcaf7",
   "metadata": {},
   "source": [
    "here we can conclude that year 1981-2000 has more percentage of Movies"
   ]
  },
  {
   "cell_type": "markdown",
   "id": "ad8ade88",
   "metadata": {},
   "source": [
    "# Distribution of top 5 Certificates"
   ]
  },
  {
   "cell_type": "code",
   "execution_count": null,
   "id": "7d44bfa8",
   "metadata": {},
   "outputs": [],
   "source": [
    "plt.figure(figsize=(14,6))\n",
    "df.groupby('certificate').size().sort_values(ascending=False).head(5).plot(kind='bar', color= sns.color_palette('Set2'))\n",
    "plt.xlabel('Certificate')\n",
    "plt.ylabel('Frequency')\n",
    "plt.title(\"Top 5 Certificates\")\n",
    "plt.show()"
   ]
  },
  {
   "cell_type": "raw",
   "id": "2ada59b5",
   "metadata": {},
   "source": [
    "in the above bar graph the Certificate R bin has more frequency "
   ]
  },
  {
   "cell_type": "markdown",
   "id": "3fdd8289",
   "metadata": {},
   "source": [
    "# Distribution of movies by rating category"
   ]
  },
  {
   "cell_type": "code",
   "execution_count": null,
   "id": "399f6511",
   "metadata": {},
   "outputs": [],
   "source": [
    "# Count the number of movies in each rating category\n",
    "rating_counts = df['certificate'].value_counts()\n",
    "\n",
    "# Create a pie chart of the rating distribution\n",
    "plt.pie(rating_counts, labels=rating_counts.index, autopct='%1.1f%%')\n",
    "plt.title('Distribution of Movies by Rating Category')\n",
    "plt.show()"
   ]
  },
  {
   "cell_type": "raw",
   "id": "d31c9adc",
   "metadata": {},
   "source": [
    "in the above pie chart the R movie has more rating percentage than the rest"
   ]
  },
  {
   "cell_type": "markdown",
   "id": "7c5b214e",
   "metadata": {},
   "source": [
    "# How does the distribution of movie ratings differ by genre?"
   ]
  },
  {
   "cell_type": "code",
   "execution_count": null,
   "id": "9d605505",
   "metadata": {},
   "outputs": [],
   "source": [
    "# Get the top 10 genres by movie count\n",
    "top_genres = df['genre'].str.split('|', expand=True).stack().value_counts().head(10).index\n",
    "\n",
    "# Filter the dataset to only include Movies in the top 10 genres\n",
    "df_top_genres = df[df['genre'].str.contains('|'.join(top_genres))]\n",
    "\n",
    "# Create a box plot for each genre\n",
    "sns.set(style='whitegrid', font_scale=1.5)\n",
    "sns.catplot(x='rating', y='genre', data=df_top_genres, kind='box', height=8, aspect=1.5, order=top_genres)\n",
    "plt.show()"
   ]
  },
  {
   "cell_type": "markdown",
   "id": "a98601a4",
   "metadata": {},
   "source": [
    "The above Boxplot shows the distribution of movie ratings based on genre"
   ]
  },
  {
   "cell_type": "markdown",
   "id": "8fa337e5",
   "metadata": {},
   "source": [
    "# What are the top 10 highest-grossing movies in the dataset?"
   ]
  },
  {
   "cell_type": "code",
   "execution_count": null,
   "id": "f82b6aad",
   "metadata": {},
   "outputs": [],
   "source": [
    "# Filter out the 'Not Available' box office values and sort by descending order\n",
    "top_grossing = df[df['box_office'] != 'Not Available'].sort_values(by='box_office', ascending=False).head(10)\n",
    "\n",
    "# Create a list of 10 different colors\n",
    "colors = ['#F44336', '#E91E63', '#9C27B0', '#673AB7', '#3F51B5', '#2196F3', '#00BCD4', '#4CAF50', '#8BC34A', '#FFC107']\n",
    "\n",
    "# Plot the vbar chart\n",
    "plt.bar(x=top_grossing['name'], height=top_grossing['box_office'], color=colors)\n",
    "plt.xticks(rotation=90)\n",
    "plt.xlabel('Movie Title')\n",
    "plt.ylabel('Box Office ($)')\n",
    "plt.title('Top 10 Highest-Grossing Movies')\n",
    "plt.show()\n"
   ]
  },
  {
   "cell_type": "raw",
   "id": "1f50bd19",
   "metadata": {},
   "source": [
    "The above bar plot represents the top 10 Box office collections "
   ]
  },
  {
   "cell_type": "markdown",
   "id": "ad54c525",
   "metadata": {},
   "source": [
    "# Which directors have the most movies in the dataset?"
   ]
  },
  {
   "cell_type": "code",
   "execution_count": null,
   "id": "83afea9b",
   "metadata": {},
   "outputs": [],
   "source": [
    "director_count = df['directors'].value_counts()\n",
    "display(director_count.head(10))"
   ]
  },
  {
   "cell_type": "code",
   "execution_count": null,
   "id": "f842577f",
   "metadata": {},
   "outputs": [],
   "source": [
    "plt.figure(figsize=(15,5))\n",
    "df.groupby('directors').size().sort_values(ascending=False).head(10).plot(kind = 'bar', color= sns.color_palette('Set3'))\n",
    "plt.xlabel(\"Directors Name\")\n",
    "plt.ylabel(\"Number of Movies\")\n",
    "plt.title(\"Top 10 directors who directed more movies in IMDB top 250 movies\")\n",
    "plt.show()"
   ]
  },
  {
   "cell_type": "raw",
   "id": "73e85cab",
   "metadata": {},
   "source": [
    "The above graph shows the Top 10 directors who directed more movies in IMDB top 250 movies"
   ]
  }
 ],
 "metadata": {
  "kernelspec": {
   "display_name": "Python 3 (ipykernel)",
   "language": "python",
   "name": "python3"
  },
  "language_info": {
   "codemirror_mode": {
    "name": "ipython",
    "version": 3
   },
   "file_extension": ".py",
   "mimetype": "text/x-python",
   "name": "python",
   "nbconvert_exporter": "python",
   "pygments_lexer": "ipython3",
   "version": "3.7.6"
  }
 },
 "nbformat": 4,
 "nbformat_minor": 5
}
